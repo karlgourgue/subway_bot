{
 "cells": [
  {
   "cell_type": "markdown",
   "metadata": {},
   "source": [
    "# Building Lola the NYC Subway Bot"
   ]
  },
  {
   "cell_type": "markdown",
   "metadata": {},
   "source": [
    "Our team wanted to create a data product that would\n",
    "be useful to New Yorkers like ourselves in every day life.\n",
    "\n",
    "By creating a Facebook messenger bot we could create\n",
    "a product that would be easily accessible and tell\n",
    "people what they really want to know — if the subway\n",
    "line they have to take is running on time or is going to\n",
    "make their life harder."
   ]
  },
  {
   "cell_type": "markdown",
   "metadata": {},
   "source": [
    "<font color='red'> Since the bot runs on one script (attached to assignment), running all cells in this notebook may result in errors. </font>"
   ]
  },
  {
   "cell_type": "markdown",
   "metadata": {},
   "source": [
    "## 1 - Web Crawling"
   ]
  },
  {
   "cell_type": "markdown",
   "metadata": {},
   "source": [
    "To start, we crawl subway information from subwaystats.com, which pulls information from the MTA data feed. The output is a dictionary with each subway line, its status, and its uptime."
   ]
  },
  {
   "cell_type": "code",
   "execution_count": 1,
   "metadata": {
    "collapsed": true
   },
   "outputs": [],
   "source": [
    "import requests # necessary to fetch URLs\n",
    "from lxml import html # for parsing the returned HTML/XML\n",
    "import pandas # To create a dataframe\n",
    "import datetime\n",
    "\n",
    "url = \"http://subwaystats.com/\"\n",
    "headers = {'User-Agent': 'Mozilla/5.0 (Macintosh; Intel Mac OS X 10_10_1) AppleWebKit/537.36 (KHTML, like Gecko) Chrome/41.0.2227.1 Safari/537.36'}\n",
    "\n",
    "response = requests.get(url, headers=headers)\n",
    "doc = html.fromstring(response.text) # parse it and create a document\n",
    "\n",
    "rows = doc.xpath(\"//tbody/tr\")\n",
    "\n",
    "def extract_status(status):\n",
    "    x = status[10:]\n",
    "    y = x[:-7]\n",
    "    return y\n",
    "\n",
    "import re \n",
    "\n",
    "def extract_uptime(uptime):\n",
    "    regex_expression = '\\d{1,3}'\n",
    "    regex= re.compile(regex_expression)\n",
    "    matches = regex.finditer(uptime)\n",
    "    for m in matches: \n",
    "        return int(m.group())\n",
    "        \n",
    "\n",
    "#define a function that creates a list of dictionaries, each dictionary containing row content\n",
    "def getSubwayInfo(row):\n",
    "    status_raw = row.xpath('./td/div[@class=\"statusHome\"]')[0].text_content()\n",
    "    line = row.xpath('./th//div')[0].text_content()\n",
    "    uptime_raw = row.xpath('./td/div/div[@class=\"progress-bar\"]/span[@class=\"sr-only\"]')[0].text_content()\n",
    "    status = extract_status(status_raw)\n",
    "    uptime = extract_uptime(uptime_raw)\n",
    "\n",
    "    result = {\n",
    "        \"line\": line,\n",
    "        \"status\" : status, \n",
    "        \"uptime\": uptime\n",
    "    }\n",
    "    return result\n",
    "\n",
    "subway_updates = [getSubwayInfo(row) for row in rows]"
   ]
  },
  {
   "cell_type": "code",
   "execution_count": 2,
   "metadata": {},
   "outputs": [
    {
     "data": {
      "text/plain": [
       "[{'line': '1', 'status': 'Good Service', 'uptime': 38},\n",
       " {'line': '2', 'status': 'Good Service', 'uptime': 40},\n",
       " {'line': '3', 'status': 'Good Service', 'uptime': 39},\n",
       " {'line': '4', 'status': 'Good Service', 'uptime': 58},\n",
       " {'line': '5', 'status': 'Good Service', 'uptime': 85},\n",
       " {'line': '6', 'status': 'Good Service', 'uptime': 74},\n",
       " {'line': '7', 'status': 'Delays', 'uptime': 88},\n",
       " {'line': 'A', 'status': 'Good Service', 'uptime': 67},\n",
       " {'line': 'C', 'status': 'Good Service', 'uptime': 88},\n",
       " {'line': 'E', 'status': 'Good Service', 'uptime': 67},\n",
       " {'line': 'B', 'status': 'Delays', 'uptime': 60},\n",
       " {'line': 'D', 'status': 'Delays', 'uptime': 27},\n",
       " {'line': 'F', 'status': 'Delays', 'uptime': 23},\n",
       " {'line': 'M', 'status': 'Delays', 'uptime': 63},\n",
       " {'line': 'G', 'status': 'Delays', 'uptime': 44},\n",
       " {'line': 'J', 'status': 'Good Service', 'uptime': 73},\n",
       " {'line': 'Z', 'status': 'Good Service', 'uptime': 100},\n",
       " {'line': 'L', 'status': 'Good Service', 'uptime': 96},\n",
       " {'line': 'N', 'status': 'Good Service', 'uptime': 80},\n",
       " {'line': 'Q', 'status': 'Good Service', 'uptime': 78},\n",
       " {'line': 'R', 'status': 'Good Service', 'uptime': 74},\n",
       " {'line': 'W', 'status': 'Good Service', 'uptime': 76},\n",
       " {'line': 'S', 'status': 'Planned Work', 'uptime': 71},\n",
       " {'line': 'SIR', 'status': 'Good Service', 'uptime': 69}]"
      ]
     },
     "execution_count": 2,
     "metadata": {},
     "output_type": "execute_result"
    }
   ],
   "source": [
    "subway_updates"
   ]
  },
  {
   "cell_type": "markdown",
   "metadata": {},
   "source": [
    "## 2 - Creating a MySQL DataBase"
   ]
  },
  {
   "cell_type": "markdown",
   "metadata": {},
   "source": [
    "Next we generate a MySQL database to store the information as the scraper runs on 5 minute intervals."
   ]
  },
  {
   "cell_type": "code",
   "execution_count": null,
   "metadata": {
    "collapsed": true
   },
   "outputs": [],
   "source": [
    "#to insert data into MySQL\n",
    "import MySQLdb as mdb\n",
    "import sys\n",
    "import datetime\n",
    "\n",
    "con = mdb.connect(host = 'localhost', \n",
    "                  user = 'root', \n",
    "                  passwd = 'dwdstudent2015', \n",
    "                  charset='utf8', use_unicode=True);\n",
    "\n",
    "#create database\n",
    "db_name = 'mta2'\n",
    "create_db_query = \"CREATE DATABASE IF NOT EXISTS {db} DEFAULT CHARACTER SET 'utf8'\".format(db=db_name)\n",
    "\n",
    "cursor = con.cursor()\n",
    "cursor.execute(create_db_query)\n",
    "cursor.close()\n",
    "\n",
    "#to create a table\n",
    "cursor = con.cursor()\n",
    "db_name = 'mta2'\n",
    "table_name = 'subway_stats' #created a table called team_stats \n",
    "\n",
    "# The {db} and {table} are placeholders for the parameters in the format(....) statement\n",
    "create_table_query = '''CREATE TABLE IF NOT EXISTS {db}.{table} \n",
    "                                (line varchar(250), \n",
    "                                status varchar(250), \n",
    "                                uptime int,\n",
    "                                last_update datetime,\n",
    "                                PRIMARY KEY(line, last_update)\n",
    "                                )'''.format(db=db_name, table=table_name)\n",
    "cursor.execute(create_table_query)\n",
    "cursor.close()\n",
    "\n",
    "#to insert data\n",
    "query_template = '''INSERT IGNORE INTO \n",
    "    mta2.subway_stats(line, status, uptime, last_update) \n",
    "    VALUES (%s, %s, %s, %s)'''\n",
    "\n",
    "cursor = con.cursor()\n",
    "\n",
    "\n",
    "for entry in subway_updates:\n",
    "    line = entry[\"line\"]\n",
    "    status = entry[\"status\"]\n",
    "    uptime = entry[\"uptime\"]\n",
    "    last_update = datetime.datetime.now()\n",
    "    print(\"Inserting line\", line)\n",
    "    query_parameters = (line, status, uptime, last_update)\n",
    "    cursor.execute(query_template, query_parameters)\n",
    "\n",
    "con.commit()\n",
    "cursor.close()"
   ]
  },
  {
   "cell_type": "markdown",
   "metadata": {},
   "source": [
    "## 3 - Launching Flask Server on Heroku"
   ]
  },
  {
   "cell_type": "markdown",
   "metadata": {},
   "source": [
    "Facebook requires that you set up a Webhook in order to receive requests. Messages sent to the Facebook page are routed to this server, where the bot processes, parses, queries, and responds. \n",
    "\n",
    "This is where we run the full script, the following blocks are just meant to illustrate what parts of the script do.\n",
    "\n",
    "To deploy the full script to Heroku, we issue the following commands from the terminal within our \"lola\" folder:\n",
    "\n",
    "```\n",
    "$ heroku login\n",
    "$ git add .\n",
    "$ git commit -am \"<whatever change was made>\"\n",
    "$ git push heroku master\n",
    "```"
   ]
  },
  {
   "cell_type": "code",
   "execution_count": null,
   "metadata": {
    "collapsed": true
   },
   "outputs": [],
   "source": [
    "application = Flask(__name__)\n",
    "app = application\n",
    "PAT = 'EAAa2XBIlumsBAJsTZAPFGAMe24UEW8nhHZBPr0siwtlbdsgybjS0zXZCYrYZCJCdK3hI2EzoH1jmr1kdiRU6pwOfSzOK2INkdEh9S2VZCMXmfXPKKvSoFZCuZA1ZCtNLaQPhBlRh3cfZAOtdSGp7xMa8dpdcWEnP0RUWDnjp5L9ImkQZDZD'\n",
    "VERIFICATION_TOKEN = 'verify_me'\n",
    "\n",
    "@app.route('/', methods=['GET'])\n",
    "def handle_verification():\n",
    "    print (\"Handling Verification.\")\n",
    "    if request.args.get('hub.verify_token', '') == VERIFICATION_TOKEN:\n",
    "        print (\"Webhook verified!\")\n",
    "        return request.args.get('hub.challenge', '')\n",
    "    else:\n",
    "        return \"Wrong verification token!\""
   ]
  },
  {
   "cell_type": "code",
   "execution_count": null,
   "metadata": {
    "collapsed": true
   },
   "outputs": [],
   "source": [
    "if __name__ == '__main__':\n",
    "    if len(sys.argv) == 2: # Allow running on customized ports\n",
    "        app.run(port=int(sys.argv[1]))\n",
    "    else:\n",
    "        app.run() # Default port 5000"
   ]
  },
  {
   "cell_type": "markdown",
   "metadata": {},
   "source": [
    "## 4 - Bot Fundamentals"
   ]
  },
  {
   "cell_type": "markdown",
   "metadata": {},
   "source": [
    "The following functions allow the bot to do its thing. The basic process flow is as follows:\n",
    "\n",
    "User sends message -> message received -> processed (text/audio/location?) -> subway line extracted -> DB searched for latest record -> dynamic response formed -> response sent to user"
   ]
  },
  {
   "cell_type": "code",
   "execution_count": null,
   "metadata": {
    "collapsed": true
   },
   "outputs": [],
   "source": [
    "def extract_subwayline(message):\n",
    "    # Extract the line from the user message\n",
    "    regex_expression = '[\\s]+[1234567ACEBDFMGJZLNQRWS][\\s]+'\n",
    "    regex = re.compile(regex_expression,re.IGNORECASE)\n",
    "    matches = regex.finditer(message)\n",
    "    for match in matches:\n",
    "        result = {\n",
    "            \"subway_line\": match.group().title()\n",
    "        }\n",
    "        subway_line = str(result[\"subway_line\"].strip())\n",
    "        return subway_line"
   ]
  },
  {
   "cell_type": "code",
   "execution_count": null,
   "metadata": {
    "collapsed": true
   },
   "outputs": [],
   "source": [
    "def subway_data_message3(subway_line):\n",
    "    error_message = 'Sorry, can you try to be more clear about which train you need the status of?'\n",
    "    if subway_line == None: #return error is regex search didn't find a subway line\n",
    "        return error_message\n",
    "    elif subway_line != None:\n",
    "        subwayline = str(subway_line)\n",
    "        with con:\n",
    "            cur = con.cursor(mdb.cursors.DictCursor)\n",
    "            # MySQL query on subway DB\n",
    "            cur.execute(\"\"\" SELECT *\n",
    "                         FROM subway_stats\n",
    "                         INNER JOIN (SELECT line, MAX(last_update) as recent FROM subway_stats GROUP BY line) md\n",
    "                             on md.line = subway_stats.line AND md.recent = subway_stats.last_update\n",
    "                         WHERE md.line=%s \"\"\",subwayline)\n",
    "            result = list(cur.fetchall())\n",
    "            cur.close()\n",
    "\n",
    "            status = result[0]['status']\n",
    "            uptime = result[0]['uptime']\n",
    "\n",
    "            # Dynamic response, based on current train status and train line\n",
    "            t = ' Current uptime for the {sl} train is {u}%'.format(sl=subwayline, u=uptime)\n",
    "\n",
    "            status1 = 'Good Service'\n",
    "            status2 = 'Delays'\n",
    "            status3 = 'Planned Work'\n",
    "            status4 = 'Service Change'\n",
    "\n",
    "            L = \"Do you live in Brooklyn? Lmao that sucks. \"\n",
    "            W = \"OoooOo the W? Do you live in the Upper East Side? Bougie AF. \"\n",
    "            N = \"Tryna get to 8th St. - NYU? SMH bunch of bitches down there. \"\n",
    "\n",
    "            if status == status1:\n",
    "                supertext = \"I think you'll have good service. :)\" + t\n",
    "            elif status == status2:\n",
    "                supertext = \"Hope you're not in a rush LOL. We got delays for daysss.\" + t\n",
    "            elif status == status3:\n",
    "                supertext = \"Planned work! You should probably check what's up before you leave the house today.\" + t\n",
    "            elif status == status4:\n",
    "                supertext = \"Service change! Don't you just love NYC?\" + t\n",
    "\n",
    "            if subwayline == \"L\":\n",
    "                return L + supertext\n",
    "            if subwayline == \"W\":\n",
    "                return W + supertext\n",
    "            if subwayline == \"N\":\n",
    "                return N + supertext\n",
    "            else:\n",
    "                return supertext"
   ]
  },
  {
   "cell_type": "code",
   "execution_count": null,
   "metadata": {
    "collapsed": true
   },
   "outputs": [],
   "source": [
    "def handle_messages():\n",
    "    payload = request.get_data()\n",
    "\n",
    "    # Handle messages\n",
    "    for sender_id, message in messaging_events(payload):\n",
    "        # Start processing valid requests\n",
    "        try:\n",
    "            response = processIncoming(sender_id, message)\n",
    "            message = str(message)\n",
    "            subway_line = extract_subwayline(message)\n",
    "            answer = str(subway_data_message3(subway_line))\n",
    "\n",
    "            if response is not None:\n",
    "                send_message(PAT, sender_id, answer)\n",
    "\n",
    "            else:\n",
    "                send_message(PAT, sender_id, \"Sorry I don't understand that\")\n",
    "        except Exception as e:\n",
    "            print (e)\n",
    "            traceback.print_exc()\n",
    "    return \"ok\""
   ]
  },
  {
   "cell_type": "code",
   "execution_count": null,
   "metadata": {
    "collapsed": true
   },
   "outputs": [],
   "source": [
    "def processIncoming(user_id, message):\n",
    "    if message['type'] == 'text':\n",
    "        message_text = message['data']\n",
    "        return message_text\n",
    "\n",
    "    elif attachment['type'] == 'location':\n",
    "        response = \"I've received location (%s,%s) (y)\"%(message['data'][0],message['data'][1])\n",
    "        return response\n",
    "\n",
    "    elif attachment['type'] == 'audio':\n",
    "        audio_url = message['data']\n",
    "        return \"I've received audio %s\"%(audio_url)\n",
    "\n",
    "    # Unrecognizable incoming, remove context and reset all data to start afresh\n",
    "    else:\n",
    "        return \"*scratch my head*\"\n"
   ]
  },
  {
   "cell_type": "code",
   "execution_count": null,
   "metadata": {
    "collapsed": true
   },
   "outputs": [],
   "source": [
    "def send_message(token, user_id, text):\n",
    "    \"\"\"Send the message text to recipient with id recipient.\n",
    "    \"\"\"\n",
    "    r = requests.post(\"https://graph.facebook.com/v2.6/me/messages\",\n",
    "                      params={\"access_token\": token},\n",
    "                      data=json.dumps({\n",
    "                          \"recipient\": {\"id\": user_id},\n",
    "                          \"message\": {\"text\": text}\n",
    "                      }),\n",
    "                      headers={'Content-type': 'application/json'})\n",
    "    if r.status_code != requests.codes.ok:\n",
    "        print (r.text)"
   ]
  },
  {
   "cell_type": "code",
   "execution_count": null,
   "metadata": {
    "collapsed": true
   },
   "outputs": [],
   "source": [
    "def messaging_events(payload):\n",
    "\n",
    "    data = json.loads(payload.decode(\"utf-8\"))\n",
    "    messaging_events = data[\"entry\"][0][\"messaging\"]\n",
    "\n",
    "    for event in messaging_events:\n",
    "        sender_id = event[\"sender\"][\"id\"]\n",
    "\n",
    "        # Not a message\n",
    "        if \"message\" not in event:\n",
    "            yield sender_id, None\n",
    "\n",
    "        # Pure text message\n",
    "        if \"message\" in event and \"text\" in event[\"message\"] and \"quick_reply\" not in event[\"message\"]:\n",
    "            data = event[\"message\"][\"text\"].encode('unicode_escape')\n",
    "            yield sender_id, {'type':'text', 'data': data, 'message_id': event['message']['mid']}\n",
    "\n",
    "        # Message with attachment (location, audio, photo, file, etc)\n",
    "        elif \"attachments\" in event[\"message\"]:\n",
    "\n",
    "            # Location\n",
    "            if \"location\" == event['message']['attachments'][0][\"type\"]:\n",
    "                coordinates = event['message']['attachments'][\n",
    "                    0]['payload']['coordinates']\n",
    "                latitude = coordinates['lat']\n",
    "                longitude = coordinates['long']\n",
    "\n",
    "                yield sender_id, {'type':'location','data':[latitude, longitude],'message_id': event['message']['mid']}\n",
    "\n",
    "            # Audio\n",
    "            elif \"audio\" == event['message']['attachments'][0][\"type\"]:\n",
    "                audio_url = event['message'][\n",
    "                    'attachments'][0]['payload']['url']\n",
    "                yield sender_id, {'type':'audio','data': audio_url, 'message_id': event['message']['mid']}\n",
    "\n",
    "            else:\n",
    "                yield sender_id, {'type':'text','data':\"I don't understand this\", 'message_id': event['message']['mid']}\n",
    "\n",
    "        # Quick reply message type\n",
    "        elif \"quick_reply\" in event[\"message\"]:\n",
    "            data = event[\"message\"][\"quick_reply\"][\"payload\"]\n",
    "            yield sender_id, {'type':'quick_reply','data': data, 'message_id': event['message']['mid']}\n",
    "\n",
    "        else:\n",
    "            yield sender_id, {'type':'text','data':\"I don't understand this\", 'message_id': event['message']['mid']}\n"
   ]
  },
  {
   "cell_type": "markdown",
   "metadata": {},
   "source": [
    "## NYC Subway Analysis"
   ]
  },
  {
   "cell_type": "markdown",
   "metadata": {},
   "source": [
    "With the data we've been collecting over the past few weeks, we were able to draw some interesting insights about which trains are most reliable. We've created a graphic below showing the most (and least) reliable trains this month."
   ]
  },
  {
   "cell_type": "code",
   "execution_count": 1,
   "metadata": {
    "collapsed": true
   },
   "outputs": [],
   "source": [
    "import pymysql as mdb\n",
    "import pymysql.cursors\n",
    "import pymysql.connections\n",
    "import re\n",
    "import pandas as pd"
   ]
  },
  {
   "cell_type": "code",
   "execution_count": 2,
   "metadata": {
    "collapsed": true
   },
   "outputs": [],
   "source": [
    "%matplotlib inline\n",
    "import pandas as pd\n",
    "import matplotlib\n",
    "import matplotlib.pyplot as plt\n",
    "matplotlib.style.use(['seaborn-talk', 'seaborn-ticks', 'seaborn-whitegrid'])\n",
    "matplotlib.rcParams['figure.figsize'] = (20,10)"
   ]
  },
  {
   "cell_type": "code",
   "execution_count": 3,
   "metadata": {},
   "outputs": [],
   "source": [
    "con = mdb.connect(host = '54.173.226.134',\n",
    "                  user = 'root',\n",
    "                  passwd = 'dwdstudent2015',\n",
    "                  charset='utf8', use_unicode=True,\n",
    "                  database='mta2');"
   ]
  },
  {
   "cell_type": "code",
   "execution_count": 4,
   "metadata": {},
   "outputs": [],
   "source": [
    "#date format gives us only the information on the hour, because we have too much data otherwise\n",
    "query = '''\n",
    "SELECT line, uptime, DATE_FORMAT(last_update, '%Y-%m-%d %H:00:00')  AS communication_time\n",
    "FROM mta2.subway_stats\n",
    "WHERE last_update > '2017-05-01' and last_update < '2017-05-10'\n",
    "'''\n",
    "cur = con.cursor()\n",
    "cur.execute(query)\n",
    "df = pd.DataFrame(list(cur.fetchall()), columns=['line', 'uptime', 'communication_time'])\n",
    "cur.close()\n",
    "con.close()\n",
    "dfl = df.groupby('line').mean()"
   ]
  },
  {
   "cell_type": "code",
   "execution_count": 5,
   "metadata": {},
   "outputs": [
    {
     "data": {
      "text/plain": [
       "<matplotlib.axes._subplots.AxesSubplot at 0x7f7bb593b748>"
      ]
     },
     "execution_count": 5,
     "metadata": {},
     "output_type": "execute_result"
    },
    {
     "data": {
      "image/png": "[encoded data removed]",
      "text/plain": [
       "<matplotlib.figure.Figure at 0x7f7bd8f10da0>"
      ]
     },
     "metadata": {},
     "output_type": "display_data"
    }
   ],
   "source": [
    "dfl.plot(kind='bar',figsize=(20,10))"
   ]
  }
 ],
 "metadata": {
  "kernelspec": {
   "display_name": "Python 3",
   "language": "python",
   "name": "python3"
  },
  "language_info": {
   "codemirror_mode": {
    "name": "ipython",
    "version": 3
   },
   "file_extension": ".py",
   "mimetype": "text/x-python",
   "name": "python",
   "nbconvert_exporter": "python",
   "pygments_lexer": "ipython3",
   "version": "3.5.2"
  }
 },
 "nbformat": 4,
 "nbformat_minor": 2
}
